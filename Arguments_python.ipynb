{
  "nbformat": 4,
  "nbformat_minor": 0,
  "metadata": {
    "colab": {
      "provenance": [],
      "authorship_tag": "ABX9TyPcbEW5IXATKxoa7jYuak26",
      "include_colab_link": true
    },
    "kernelspec": {
      "name": "python3",
      "display_name": "Python 3"
    },
    "language_info": {
      "name": "python"
    }
  },
  "cells": [
    {
      "cell_type": "markdown",
      "metadata": {
        "id": "view-in-github",
        "colab_type": "text"
      },
      "source": [
        "<a href=\"https://colab.research.google.com/github/Imama-Kainat/ByteWise-MLDL/blob/main/Arguments_python.ipynb\" target=\"_parent\"><img src=\"https://colab.research.google.com/assets/colab-badge.svg\" alt=\"Open In Colab\"/></a>"
      ]
    },
    {
      "cell_type": "markdown",
      "source": [
        "Imama Kainat\n",
        "BWT Assignment\n",
        "https://youtu.be/RDzm2oHSAug?si=GFW8712TVWBPO5Po\n",
        "This was the video it was about Default parameters and Multiple Arguments in Python\n",
        "\n"
      ],
      "metadata": {
        "id": "7vwU9joz2x45"
      }
    },
    {
      "cell_type": "code",
      "source": [
        "def info(name,markss):\n",
        "    print (\"Name:\",name)\n",
        "    print (\"Marks:\",markss)\n",
        "info(\"Imama\",90)\n"
      ],
      "metadata": {
        "colab": {
          "base_uri": "https://localhost:8080/"
        },
        "id": "YY6gbYQr2vwg",
        "outputId": "7d629776-ecd1-400e-d2f0-f8add9a6f20b"
      },
      "execution_count": 2,
      "outputs": [
        {
          "output_type": "stream",
          "name": "stdout",
          "text": [
            "Name: Imama\n",
            "Marks: 90\n"
          ]
        }
      ]
    },
    {
      "cell_type": "code",
      "source": [
        "def info(name,*markss):\n",
        "    print (\"Name:\",name)\n",
        "    print (\"Marks:\",markss)\n",
        "info(\"Imama\",90,8,9,10)\n"
      ],
      "metadata": {
        "colab": {
          "base_uri": "https://localhost:8080/"
        },
        "id": "AIPLHJ8W4VAC",
        "outputId": "58a5847b-6328-4aad-91f3-8604faf32640"
      },
      "execution_count": 3,
      "outputs": [
        {
          "output_type": "stream",
          "name": "stdout",
          "text": [
            "Name: Imama\n",
            "Marks: (90, 8, 9, 10)\n"
          ]
        }
      ]
    },
    {
      "cell_type": "code",
      "source": [
        "def info(name=\"kainat\",markss=34):\n",
        "    print (\"Name:\",name)\n",
        "    print (\"Marks:\",markss)\n",
        "info()\n"
      ],
      "metadata": {
        "colab": {
          "base_uri": "https://localhost:8080/"
        },
        "id": "ybJ4ZWy64j2w",
        "outputId": "b7caf45f-0a44-4bdf-99be-d0829763c33f"
      },
      "execution_count": 4,
      "outputs": [
        {
          "output_type": "stream",
          "name": "stdout",
          "text": [
            "Name: kainat\n",
            "Marks: 34\n"
          ]
        }
      ]
    }
  ]
}