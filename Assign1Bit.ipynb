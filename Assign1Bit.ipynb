{
  "nbformat": 4,
  "nbformat_minor": 0,
  "metadata": {
    "colab": {
      "provenance": [],
      "authorship_tag": "ABX9TyNQwnH7kQoOTEYXMc5KMGf9",
      "include_colab_link": true
    },
    "kernelspec": {
      "name": "python3",
      "display_name": "Python 3"
    },
    "language_info": {
      "name": "python"
    }
  },
  "cells": [
    {
      "cell_type": "markdown",
      "metadata": {
        "id": "view-in-github",
        "colab_type": "text"
      },
      "source": [
        "<a href=\"https://colab.research.google.com/github/Imama-Kainat/ByteWise-MLDL/blob/main/Assign1Bit.ipynb\" target=\"_parent\"><img src=\"https://colab.research.google.com/assets/colab-badge.svg\" alt=\"Open In Colab\"/></a>"
      ]
    },
    {
      "cell_type": "markdown",
      "source": [
        "#Learning Material+Assignment\n",
        "##List/Tupple/Set\n",
        "https://www.google.com/url?q=https://www.youtube.com/watch?v%3DW8KRzm-HUcc&sa=D&source=editors&ust=1718044411454923&usg=AOvVaw2jbezX0psAdqfnyFfVNHhm\n",
        "\n",
        "##Panda\n",
        "https://www.google.com/url?q=https://www.youtube.com/watch?v%3DxECXZ3tyONo&sa=D&source=editors&ust=1718044411455147&usg=AOvVaw15pnu3Rv5cAzJaxBTmU4i0\n",
        "\n",
        "##Assignment\n",
        "https://www.google.com/url?q=https://docs.google.com/document/d/1Y52Wg10Zx3gQRwjTBT9-iIiJnNctEcZY/edit?usp%3Dsharing%26ouid%3D107689249093443406233%26rtpof%3Dtrue%26sd%3Dtrue&sa=D&source=editors&ust=1718044411455274&usg=AOvVaw2QiFLhN12XM5K6ZKN4wYJm\n"
      ],
      "metadata": {
        "id": "OPp-wiG3SwFx"
      }
    },
    {
      "cell_type": "code",
      "execution_count": 7,
      "metadata": {
        "colab": {
          "base_uri": "https://localhost:8080/"
        },
        "id": "tQO7lZXMPkQE",
        "outputId": "d56c2438-c627-45c5-a357-aec4e6ba4cb7"
      },
      "outputs": [
        {
          "output_type": "execute_result",
          "data": {
            "text/plain": [
              "array([8.5, 6. , 5.3, 6.5, 5.7])"
            ]
          },
          "metadata": {},
          "execution_count": 7
        }
      ],
      "source": [
        "import numpy as np\n",
        "basketplayer=[8.5,6,5.3,6.5,5.7]\n",
        "type(basketplayer)\n",
        "b_player=np.array(basketplayer)\n",
        "b_player"
      ]
    },
    {
      "cell_type": "markdown",
      "source": [
        "# Baseball players' height\n",
        "Create a numpy array from height_in. Name this new array np_height_in.\n",
        "Print np_height_in.\n",
        "Multiply np_height_in with 0.0254 to convert all height measurements from inches to meters. Store the new values in a new array, np_height_m.\n",
        "Print out np_height_m and check if the output makes sense\n",
        "\n",
        "\n",
        "\n",
        "\n",
        "\n"
      ],
      "metadata": {
        "id": "zLLrGtb4RPVw"
      }
    },
    {
      "cell_type": "code",
      "source": [
        "height_in=[8.5,6,5.3,6.5,5.7]\n",
        "np_height_in=np.array(height_in)\n",
        "np_height_in"
      ],
      "metadata": {
        "colab": {
          "base_uri": "https://localhost:8080/"
        },
        "id": "jEjNZ7GnQe_Y",
        "outputId": "bcb9cc1e-bcdf-4ccd-f1fc-6a069e46e2f6"
      },
      "execution_count": 8,
      "outputs": [
        {
          "output_type": "execute_result",
          "data": {
            "text/plain": [
              "array([8.5, 6. , 5.3, 6.5, 5.7])"
            ]
          },
          "metadata": {},
          "execution_count": 8
        }
      ]
    },
    {
      "cell_type": "code",
      "source": [
        "np_height_m=np_height_in*0.0254\n",
        "np_height_m"
      ],
      "metadata": {
        "colab": {
          "base_uri": "https://localhost:8080/"
        },
        "id": "LWLoqz-JRMMq",
        "outputId": "9ed2c8b6-aac8-42c2-e8b1-1ade3dd5a221"
      },
      "execution_count": 9,
      "outputs": [
        {
          "output_type": "execute_result",
          "data": {
            "text/plain": [
              "array([0.2159 , 0.1524 , 0.13462, 0.1651 , 0.14478])"
            ]
          },
          "metadata": {},
          "execution_count": 9
        }
      ]
    },
    {
      "cell_type": "code",
      "source": [],
      "metadata": {
        "id": "KWEr1tGpcKml"
      },
      "execution_count": null,
      "outputs": []
    },
    {
      "cell_type": "markdown",
      "source": [
        "#Baseball player's BMI\n",
        "The MLB also offers to let you analyze their weight data. Again, both are available as regular Python lists: height_in and weight_lb. height_in is in inches and weight_lb is in pounds.\n",
        "It's now possible to calculate the BMI of each baseball player. Python code to convert height_in to a numpy array with the correct units is already available in the workspace. Follow the instructions step by step and finish the game! height_in and weight_lb are available as regular lists\n",
        "\n",
        "\n",
        "1.   Create a numpy array from the weight_lb list with the correct units. Multiply by 0.453592 to go from pounds to kilograms. Store the resulting numpy array as np_weight_kg.\n",
        "2. Use np_height_m and np_weight_kg to calculate the BMI of each player. 3. Use the following equation:BMI=weight(kg)height(m)2Save the resulting numpy array as bmi.\n",
        "3. Print out bmi.\n"
      ],
      "metadata": {
        "id": "aSZUj136TuOk"
      }
    },
    {
      "cell_type": "code",
      "source": [
        "weight_lb =np.array([3,5,6,7,89])\n",
        "np_weight_kg=0.453592*weight_lb\n",
        "BMI=weight_lb*np_weight_kg\n",
        "bmi=np.array(BMI)\n",
        "BMI"
      ],
      "metadata": {
        "colab": {
          "base_uri": "https://localhost:8080/"
        },
        "id": "ivT7H0Y5SgVl",
        "outputId": "326dbeee-620e-405f-facd-5855fdbc37cf"
      },
      "execution_count": 10,
      "outputs": [
        {
          "output_type": "execute_result",
          "data": {
            "text/plain": [
              "array([   4.082328,   11.3398  ,   16.329312,   22.226008, 3592.902232])"
            ]
          },
          "metadata": {},
          "execution_count": 10
        }
      ]
    },
    {
      "cell_type": "markdown",
      "source": [
        "#Lightweight baseball players\n",
        "To subset both regular Python lists and numpy arrays, you can use square brackets:\n",
        "x = [4 , 9 , 6, 3, 1]\n",
        "x[1]\n",
        "import numpy as np\n",
        "y = np.array(x)\n",
        "y[1]\n",
        "For numpy specifically, you can also use boolean numpy arrays:\n",
        "high = y > 5\n",
        "y[high]\n",
        "The code that calculates the BMI of all baseball players is already included. Follow the instructions and reveal interesting things from the data! height_in and weight_lb are available as regular lists.\n",
        "##Instructions\n",
        "Create a boolean numpy array: the element of the array should be True if the corresponding baseball player's BMI is below 21. You can use the < operator for this. Name the array light.\n",
        "Print the array light.\n",
        "Print out a numpy array with the BMIs of all baseball players whose BMI is below 21. Use light inside square brackets to do a selection on the bmi array"
      ],
      "metadata": {
        "id": "2ix6-feLcpN3"
      }
    },
    {
      "cell_type": "code",
      "source": [
        "light=np.array(BMI<210)\n",
        "light"
      ],
      "metadata": {
        "colab": {
          "base_uri": "https://localhost:8080/"
        },
        "id": "UabjQHZecDk5",
        "outputId": "572c8973-2540-4460-8ce3-3057a7be2d20"
      },
      "execution_count": 11,
      "outputs": [
        {
          "output_type": "execute_result",
          "data": {
            "text/plain": [
              "array([ True,  True,  True,  True, False])"
            ]
          },
          "metadata": {},
          "execution_count": 11
        }
      ]
    },
    {
      "cell_type": "code",
      "source": [
        "bmi[light]"
      ],
      "metadata": {
        "colab": {
          "base_uri": "https://localhost:8080/"
        },
        "id": "0KNS3GdexMNU",
        "outputId": "0f920490-2ae1-45b5-8167-64f355ec1cd3"
      },
      "execution_count": null,
      "outputs": [
        {
          "output_type": "execute_result",
          "data": {
            "text/plain": [
              "array([ 4.082328, 11.3398  , 16.329312, 22.226008])"
            ]
          },
          "metadata": {},
          "execution_count": 9
        }
      ]
    },
    {
      "cell_type": "markdown",
      "source": [
        "#type coercion\n",
        "numpy arrays cannot contain elements with different types. If you try to build such a list, some of the elements' types are changed to end up with a homogeneous list. This is known as type coercion.\n"
      ],
      "metadata": {
        "id": "kh9tyQDVykUl"
      }
    },
    {
      "cell_type": "code",
      "source": [
        "np.array([True, 1, 2]) + np.array([3, 4, False]) #\n"
      ],
      "metadata": {
        "colab": {
          "base_uri": "https://localhost:8080/"
        },
        "id": "ZJMz_OrOyUHd",
        "outputId": "5b7313e4-63be-4356-9e97-92f65567354f"
      },
      "execution_count": 12,
      "outputs": [
        {
          "output_type": "execute_result",
          "data": {
            "text/plain": [
              "array([4, 5, 2])"
            ]
          },
          "metadata": {},
          "execution_count": 12
        }
      ]
    },
    {
      "cell_type": "code",
      "source": [
        "np.array([True, 1, 2, 3, 4, False])"
      ],
      "metadata": {
        "colab": {
          "base_uri": "https://localhost:8080/"
        },
        "id": "CrRUFWuiyU5T",
        "outputId": "cd554a33-2183-4e53-a66a-cb593e0d0a89"
      },
      "execution_count": 13,
      "outputs": [
        {
          "output_type": "execute_result",
          "data": {
            "text/plain": [
              "array([1, 1, 2, 3, 4, 0])"
            ]
          },
          "metadata": {},
          "execution_count": 13
        }
      ]
    },
    {
      "cell_type": "code",
      "source": [
        "np.array([4, 3, 0]) + np.array([0, 2, 2])\n"
      ],
      "metadata": {
        "colab": {
          "base_uri": "https://localhost:8080/"
        },
        "id": "YH1M5bCpy9ny",
        "outputId": "8602caae-1e2c-4de9-90b0-692c59698825"
      },
      "execution_count": 14,
      "outputs": [
        {
          "output_type": "execute_result",
          "data": {
            "text/plain": [
              "array([4, 5, 2])"
            ]
          },
          "metadata": {},
          "execution_count": 14
        }
      ]
    },
    {
      "cell_type": "code",
      "source": [
        "np.array([1, 1, 2]) + np.array([3, 4, -1])\n"
      ],
      "metadata": {
        "colab": {
          "base_uri": "https://localhost:8080/"
        },
        "id": "xRe711gnzAw3",
        "outputId": "6b725504-8488-4f5c-c868-1e7e02a5f0aa"
      },
      "execution_count": 15,
      "outputs": [
        {
          "output_type": "execute_result",
          "data": {
            "text/plain": [
              "array([4, 5, 1])"
            ]
          },
          "metadata": {},
          "execution_count": 15
        }
      ]
    },
    {
      "cell_type": "code",
      "source": [
        "np.array([0, 1, 2, 3, 4, 5])"
      ],
      "metadata": {
        "colab": {
          "base_uri": "https://localhost:8080/"
        },
        "id": "sHKhAs-0zTRl",
        "outputId": "d5e644f9-a44a-409b-f351-14232a0dc91f"
      },
      "execution_count": 16,
      "outputs": [
        {
          "output_type": "execute_result",
          "data": {
            "text/plain": [
              "array([0, 1, 2, 3, 4, 5])"
            ]
          },
          "metadata": {},
          "execution_count": 16
        }
      ]
    },
    {
      "cell_type": "markdown",
      "source": [
        "Convert heights and positions, which are regular lists, to numpy arrays. Call them np_heights and np_positions.\n",
        "Extract all the heights of the goalkeepers. You can use a little trick here: use np_positions == 'GK' as an index for np_heights. Assign the result to gk_heights.\n",
        "Extract all the heights of all the other players. This time use np_positions != 'GK' as an index for np_heights. Assign the result to other_heights.\n",
        "Print out the median height of the goalkeepers using np.median(). Replace None with the correct code.\n",
        "Do the same for the other players. Print out their median height. Replace None with the correct code.\n"
      ],
      "metadata": {
        "id": "E7MX6EJf3aH1"
      }
    },
    {
      "cell_type": "markdown",
      "source": [
        "positions=['GK', 'M', 'A', 'D']\n",
        "np_positions=np.array(positions)\n",
        "heights=[180, 215, 210, 210]\n",
        "np_heights=np.array(heights)\n",
        "\n"
      ],
      "metadata": {
        "id": "VX287zPwzWR4"
      }
    },
    {
      "cell_type": "code",
      "source": [
        "positions=['GK', 'M', 'A', 'D']\n",
        "heights=[180, 215, 210, 210]\n",
        "np_heights =np.array(heights)\n",
        "np_positions=np.array(positions)\n"
      ],
      "metadata": {
        "id": "DJVsEuHNzrMJ"
      },
      "execution_count": 17,
      "outputs": []
    },
    {
      "cell_type": "code",
      "source": [
        "gk_heights = np_heights[np_positions == 'GK']\n",
        "other_heights=np_heights[np_positions!='GK']\n"
      ],
      "metadata": {
        "id": "coH6BmYkz01h"
      },
      "execution_count": 18,
      "outputs": []
    },
    {
      "cell_type": "code",
      "source": [
        "median_gk_height = np.median(gk_heights)\n",
        "print(\"Median height of goalkeepers:\", median_gk_height)\n",
        "\n",
        "#  Calculate and print median height of other players\n",
        "median_other_height = np.median(other_heights)\n",
        "print(\"Median height of other players:\", median_other_height)\n"
      ],
      "metadata": {
        "colab": {
          "base_uri": "https://localhost:8080/"
        },
        "id": "5cZb_byB0dwz",
        "outputId": "b1275353-dcce-407c-a2d4-5290908d6159"
      },
      "execution_count": 19,
      "outputs": [
        {
          "output_type": "stream",
          "name": "stdout",
          "text": [
            "Median height of goalkeepers: 180.0\n",
            "Median height of other players: 210.0\n"
          ]
        }
      ]
    },
    {
      "cell_type": "code",
      "source": [],
      "metadata": {
        "id": "eQLhYXlk0qaP"
      },
      "execution_count": null,
      "outputs": []
    }
  ]
}