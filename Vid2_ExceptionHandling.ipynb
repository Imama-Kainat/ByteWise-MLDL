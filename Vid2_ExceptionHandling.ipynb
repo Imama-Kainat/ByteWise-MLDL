{
  "nbformat": 4,
  "nbformat_minor": 0,
  "metadata": {
    "colab": {
      "provenance": [],
      "authorship_tag": "ABX9TyNGK7NJMVXMgfivzBfDFUZ8",
      "include_colab_link": true
    },
    "kernelspec": {
      "name": "python3",
      "display_name": "Python 3"
    },
    "language_info": {
      "name": "python"
    }
  },
  "cells": [
    {
      "cell_type": "markdown",
      "metadata": {
        "id": "view-in-github",
        "colab_type": "text"
      },
      "source": [
        "<a href=\"https://colab.research.google.com/github/Imama-Kainat/ByteWise-MLDL/blob/main/Vid2_ExceptionHandling.ipynb\" target=\"_parent\"><img src=\"https://colab.research.google.com/assets/colab-badge.svg\" alt=\"Open In Colab\"/></a>"
      ]
    },
    {
      "cell_type": "markdown",
      "source": [
        "#Imama Kainat\n",
        "Vid2 https://youtu.be/8gPONnGIPgw?si=805t-ZI4tlg9HLVr\n"
      ],
      "metadata": {
        "id": "J898zt7IROPH"
      }
    },
    {
      "cell_type": "markdown",
      "source": [
        "#Exception Handling"
      ],
      "metadata": {
        "id": "TNYWTCX9Rcb-"
      }
    },
    {
      "cell_type": "code",
      "source": [
        "try:\n",
        "  print(x)\n",
        "except:\n",
        "  print(\"An exception occurred\")"
      ],
      "metadata": {
        "colab": {
          "base_uri": "https://localhost:8080/"
        },
        "id": "6UrABtpKRbLl",
        "outputId": "1126f860-9deb-4d87-b938-98144bf9609a"
      },
      "execution_count": 1,
      "outputs": [
        {
          "output_type": "stream",
          "name": "stdout",
          "text": [
            "An exception occurred\n"
          ]
        }
      ]
    },
    {
      "cell_type": "code",
      "source": [
        "#multiple exception on same time\n",
        "try:\n",
        "  print(x)\n",
        "except NameError:\n",
        "  print(\"Variable x is not defined\")\n",
        "except:\n",
        "  print(\"Something else went wrong\")"
      ],
      "metadata": {
        "colab": {
          "base_uri": "https://localhost:8080/"
        },
        "id": "zjRsIyqUR1id",
        "outputId": "8afe21bf-efff-4388-9a7f-6c7dc92155ab"
      },
      "execution_count": 2,
      "outputs": [
        {
          "output_type": "stream",
          "name": "stdout",
          "text": [
            "Variable x is not defined\n"
          ]
        }
      ]
    },
    {
      "cell_type": "code",
      "source": [
        "#else keyword to define a block of code to be executed if no errors were raised:\n",
        "try:\n",
        "  print(\"Hello\")\n",
        "except:\n",
        "  print(\"Something went wrong\")\n",
        "else:\n",
        "  print(\"Nothing went wrong\")"
      ],
      "metadata": {
        "colab": {
          "base_uri": "https://localhost:8080/"
        },
        "id": "XJbU8fydR8XS",
        "outputId": "4bffa045-bd26-4aec-c016-250de2cf33fb"
      },
      "execution_count": 3,
      "outputs": [
        {
          "output_type": "stream",
          "name": "stdout",
          "text": [
            "Hello\n",
            "Nothing went wrong\n"
          ]
        }
      ]
    },
    {
      "cell_type": "code",
      "source": [
        "#finally block, if specified, will be executed regardless if the try block raises an error or not.\n",
        "try:\n",
        "  print(x)\n",
        "except:\n",
        "  print(\"Something went wrong\")\n",
        "finally:\n",
        "  print(\"The 'try except' is finished\")"
      ],
      "metadata": {
        "colab": {
          "base_uri": "https://localhost:8080/"
        },
        "id": "iglS0MRJSLiC",
        "outputId": "dcc84ba6-7923-4750-8288-322d8565cd58"
      },
      "execution_count": 4,
      "outputs": [
        {
          "output_type": "stream",
          "name": "stdout",
          "text": [
            "Something went wrong\n",
            "The 'try except' is finished\n"
          ]
        }
      ]
    },
    {
      "cell_type": "code",
      "source": [
        "try:\n",
        "  f = open(\"demofile.txt\")\n",
        "  try:\n",
        "    f.write(\"Lorum Ipsum\")\n",
        "  except:\n",
        "    print(\"Something went wrong when writing to the file\")\n",
        "  finally:\n",
        "    f.close()\n",
        "except:\n",
        "  print(\"Something went wrong when opening the file\")"
      ],
      "metadata": {
        "colab": {
          "base_uri": "https://localhost:8080/"
        },
        "id": "IUoDtBsMSmZr",
        "outputId": "a9b3c59c-96e0-4d1d-a70c-54544a2dbb0f"
      },
      "execution_count": 5,
      "outputs": [
        {
          "output_type": "stream",
          "name": "stdout",
          "text": [
            "Something went wrong when opening the file\n"
          ]
        }
      ]
    },
    {
      "cell_type": "markdown",
      "source": [
        "The try block lets you test a block of code for errors.\n",
        "\n",
        "The except block lets you handle the error.\n",
        "\n",
        "The else block lets you execute code when there is no error.\n",
        "\n",
        "The finally block lets you execute code, regardless of the result of the try- and except blocks.\n",
        "\n"
      ],
      "metadata": {
        "id": "HEAm6NC6SuaT"
      }
    },
    {
      "cell_type": "markdown",
      "source": [
        "#Global & Local Variables"
      ],
      "metadata": {
        "id": "maZa1YdyS0UV"
      }
    },
    {
      "cell_type": "code",
      "source": [
        "\n",
        "def f():\n",
        "    s = \"Me too.\"\n",
        "    print(s)\n",
        "\n",
        "# Global scope\n",
        "s = \"I hate it \"\n",
        "f()\n",
        "print(s)"
      ],
      "metadata": {
        "colab": {
          "base_uri": "https://localhost:8080/"
        },
        "id": "B5ik81J6Swob",
        "outputId": "189b25dd-0513-439e-cf3f-bbfb4d33c2c7"
      },
      "execution_count": 7,
      "outputs": [
        {
          "output_type": "stream",
          "name": "stdout",
          "text": [
            "Me too.\n",
            "I hate it \n"
          ]
        }
      ]
    },
    {
      "cell_type": "markdown",
      "source": [
        "#Lamda Function\n",
        "A lambda function can take any number of arguments, but can only have one expression.\n",
        "\n",
        "Lambda functions are similar to user-defined functions but without a name. They're commonly referred to as anonymous functions. Lambda functions are efficient whenever you want to create a function that will only contain simple expressions – that is, expressions that are usually a single line of a statement.\n",
        "##lambda arguments : expression"
      ],
      "metadata": {
        "id": "il2kOAqkXIZt"
      }
    },
    {
      "cell_type": "code",
      "source": [
        "# WITHOUT LAMBDA FUNCTION\n",
        "def add (x,y):\n",
        "    return(x+y)\n",
        "add (3,3)\n"
      ],
      "metadata": {
        "colab": {
          "base_uri": "https://localhost:8080/"
        },
        "id": "A2b7H8V7XIDW",
        "outputId": "aeeaffcd-4b75-42c1-d247-8740bc1388c3"
      },
      "execution_count": 8,
      "outputs": [
        {
          "output_type": "execute_result",
          "data": {
            "text/plain": [
              "6"
            ]
          },
          "metadata": {},
          "execution_count": 8
        }
      ]
    },
    {
      "cell_type": "code",
      "source": [
        "# WITH LAMBDA FUNCTION\n",
        "addition= lambda a,b : a+b\n",
        "print (addition (3,3))\n"
      ],
      "metadata": {
        "colab": {
          "base_uri": "https://localhost:8080/"
        },
        "id": "clFChS9kXqg1",
        "outputId": "548f7dd9-1194-4c15-db9b-eaa6e2479cc2"
      },
      "execution_count": 9,
      "outputs": [
        {
          "output_type": "stream",
          "name": "stdout",
          "text": [
            "6\n"
          ]
        }
      ]
    },
    {
      "cell_type": "code",
      "source": [
        "def myfunc(n):\n",
        "  return lambda a : a * n\n",
        "\n",
        "tripler = myfunc(3)\n",
        "\n",
        "print(tripler(11))\n",
        "# function that always triples the number you send"
      ],
      "metadata": {
        "colab": {
          "base_uri": "https://localhost:8080/"
        },
        "id": "zj-Q2p67YD_m",
        "outputId": "84b5139e-ac19-4f04-9c00-e02cfdabed70"
      },
      "execution_count": 10,
      "outputs": [
        {
          "output_type": "stream",
          "name": "stdout",
          "text": [
            "33\n"
          ]
        }
      ]
    }
  ]
}