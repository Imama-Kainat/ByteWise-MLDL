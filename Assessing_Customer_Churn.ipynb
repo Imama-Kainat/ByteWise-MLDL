{
  "nbformat": 4,
  "nbformat_minor": 0,
  "metadata": {
    "colab": {
      "provenance": [],
      "authorship_tag": "ABX9TyNmMdAXZuYVdVIEnUDEhdPo",
      "include_colab_link": true
    },
    "kernelspec": {
      "name": "python3",
      "display_name": "Python 3"
    },
    "language_info": {
      "name": "python"
    }
  },
  "cells": [
    {
      "cell_type": "markdown",
      "metadata": {
        "id": "view-in-github",
        "colab_type": "text"
      },
      "source": [
        "<a href=\"https://colab.research.google.com/github/Imama-Kainat/ByteWise-MLDL/blob/main/Assessing_Customer_Churn.ipynb\" target=\"_parent\"><img src=\"https://colab.research.google.com/assets/colab-badge.svg\" alt=\"Open In Colab\"/></a>"
      ]
    },
    {
      "cell_type": "code",
      "execution_count": 3,
      "metadata": {
        "colab": {
          "base_uri": "https://localhost:8080/"
        },
        "id": "5AYvkPqd3xxd",
        "outputId": "0594d965-c5db-4584-ba33-2c49d3bc9c08"
      },
      "outputs": [
        {
          "output_type": "stream",
          "name": "stdout",
          "text": [
            "Churn Rate:\n",
            " churn\n",
            "0    0.799538\n",
            "1    0.200462\n",
            "Name: count, dtype: float64\n",
            "<class 'pandas.core.frame.DataFrame'>\n",
            "RangeIndex: 6500 entries, 0 to 6499\n",
            "Data columns (total 14 columns):\n",
            " #   Column              Non-Null Count  Dtype \n",
            "---  ------              --------------  ----- \n",
            " 0   customer_id         6500 non-null   int64 \n",
            " 1   telecom_partner     6500 non-null   object\n",
            " 2   gender              6500 non-null   object\n",
            " 3   age                 6500 non-null   int64 \n",
            " 4   state               6500 non-null   object\n",
            " 5   city                6500 non-null   object\n",
            " 6   pincode             6500 non-null   int64 \n",
            " 7   registration_event  6500 non-null   object\n",
            " 8   num_dependents      6500 non-null   int64 \n",
            " 9   estimated_salary    6500 non-null   int64 \n",
            " 10  calls_made          6500 non-null   int64 \n",
            " 11  sms_sent            6500 non-null   int64 \n",
            " 12  data_used           6500 non-null   int64 \n",
            " 13  churn               6500 non-null   int64 \n",
            "dtypes: int64(9), object(5)\n",
            "memory usage: 711.1+ KB\n",
            "None\n",
            "Logistic Regression Confusion Matrix:\n",
            " [[920 107]\n",
            " [245  28]]\n",
            "Logistic Regression Classification Report:\n",
            "               precision    recall  f1-score   support\n",
            "\n",
            "           0       0.79      0.90      0.84      1027\n",
            "           1       0.21      0.10      0.14       273\n",
            "\n",
            "    accuracy                           0.73      1300\n",
            "   macro avg       0.50      0.50      0.49      1300\n",
            "weighted avg       0.67      0.73      0.69      1300\n",
            "\n",
            "Random Forest Confusion Matrix:\n",
            " [[1026    1]\n",
            " [ 273    0]]\n",
            "Random Forest Classification Report:\n",
            "               precision    recall  f1-score   support\n",
            "\n",
            "           0       0.79      1.00      0.88      1027\n",
            "           1       0.00      0.00      0.00       273\n",
            "\n",
            "    accuracy                           0.79      1300\n",
            "   macro avg       0.39      0.50      0.44      1300\n",
            "weighted avg       0.62      0.79      0.70      1300\n",
            "\n",
            "The model with the higher accuracy is: RandomForest\n"
          ]
        }
      ],
      "source": [
        "# Import libraries and methods/functions\n",
        "import pandas as pd\n",
        "from sklearn.preprocessing import StandardScaler, OneHotEncoder\n",
        "from sklearn.model_selection import train_test_split\n",
        "from sklearn.linear_model import LogisticRegression\n",
        "from sklearn.ensemble import RandomForestClassifier\n",
        "from sklearn.metrics import classification_report, confusion_matrix\n",
        "\n",
        "# Set display options\n",
        "pd.set_option('display.max_columns', None)\n",
        "pd.set_option('display.max_rows', None)\n",
        "# Load data\n",
        "telco_demog = pd.read_csv('telecom_demographics.csv')\n",
        "telco_usage = pd.read_csv('telecom_usage.csv')\n",
        "\n",
        "# Join data\n",
        "churn_df = telco_demog.merge(telco_usage, on='customer_id')\n",
        "\n",
        "# Identify churn rate\n",
        "churn_rate = churn_df['churn'].value_counts() / len(churn_df)\n",
        "print(\"Churn Rate:\\n\", churn_rate)\n",
        "\n",
        "# Identify categorical variables\n",
        "print(churn_df.info())\n",
        "\n",
        "# One Hot Encoding for categorical variables\n",
        "churn_df = pd.get_dummies(churn_df, columns=['telecom_partner', 'gender', 'state', 'city', 'registration_event'])\n",
        "\n",
        "# Feature Scaling\n",
        "scaler = StandardScaler()\n",
        "\n",
        "# 'customer_id' is not a feature\n",
        "features = churn_df.drop(['customer_id', 'churn'], axis=1)\n",
        "features_scaled = scaler.fit_transform(features)\n",
        "\n",
        "# Target variable\n",
        "target = churn_df['churn']\n",
        "\n",
        "# Splitting the dataset\n",
        "X_train, X_test, y_train, y_test = train_test_split(features_scaled, target, test_size=0.2, random_state=42)\n",
        "\n",
        "# Instantiate the Logistic Regression\n",
        "logreg = LogisticRegression(random_state=42)\n",
        "logreg.fit(X_train, y_train)\n",
        "\n",
        "# Logistic Regression predictions\n",
        "logreg_pred = logreg.predict(X_test)\n",
        "\n",
        "# Logistic Regression evaluation\n",
        "print(\"Logistic Regression Confusion Matrix:\\n\", confusion_matrix(y_test, logreg_pred))\n",
        "print(\"Logistic Regression Classification Report:\\n\", classification_report(y_test, logreg_pred))\n",
        "\n",
        "# Instantiate the Random Forest model\n",
        "rf = RandomForestClassifier(random_state=42)\n",
        "rf.fit(X_train, y_train)\n",
        "\n",
        "# Random Forest predictions\n",
        "rf_pred = rf.predict(X_test)\n",
        "\n",
        "# Random Forest evaluation\n",
        "print(\"Random Forest Confusion Matrix:\\n\", confusion_matrix(y_test, rf_pred))\n",
        "print(\"Random Forest Classification Report:\\n\", classification_report(y_test, rf_pred))\n",
        "\n",
        "# Which accuracy score is higher?\n",
        "logreg_accuracy = logreg.score(X_test, y_test)\n",
        "rf_accuracy = rf.score(X_test, y_test)\n",
        "\n",
        "if logreg_accuracy > rf_accuracy:\n",
        "    higher_accuracy = \"LogisticRegression\"\n",
        "else:\n",
        "    higher_accuracy = \"RandomForest\"\n",
        "\n",
        "print(f\"The model with the higher accuracy is: {higher_accuracy}\")\n"
      ]
    },
    {
      "cell_type": "code",
      "source": [],
      "metadata": {
        "id": "M5cLBpCD5OUw"
      },
      "execution_count": null,
      "outputs": []
    }
  ]
}