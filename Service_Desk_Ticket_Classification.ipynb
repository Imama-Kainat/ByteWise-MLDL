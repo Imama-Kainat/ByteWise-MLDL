{
  "nbformat": 4,
  "nbformat_minor": 0,
  "metadata": {
    "colab": {
      "provenance": [],
      "authorship_tag": "ABX9TyOFf47psrc55I0gLsTw05dd",
      "include_colab_link": true
    },
    "kernelspec": {
      "name": "python3",
      "display_name": "Python 3"
    },
    "language_info": {
      "name": "python"
    }
  },
  "cells": [
    {
      "cell_type": "markdown",
      "metadata": {
        "id": "view-in-github",
        "colab_type": "text"
      },
      "source": [
        "<a href=\"https://colab.research.google.com/github/Imama-Kainat/ByteWise-MLDL/blob/main/Service_Desk_Ticket_Classification.ipynb\" target=\"_parent\"><img src=\"https://colab.research.google.com/assets/colab-badge.svg\" alt=\"Open In Colab\"/></a>"
      ]
    },
    {
      "cell_type": "code",
      "execution_count": 1,
      "metadata": {
        "colab": {
          "base_uri": "https://localhost:8080/"
        },
        "id": "z1bShxWrNG1V",
        "outputId": "b870772e-9bd6-48f4-8655-521809d2536e"
      },
      "outputs": [
        {
          "output_type": "stream",
          "name": "stdout",
          "text": [
            "Requirement already satisfied: torch in /usr/local/lib/python3.10/dist-packages (2.4.0+cu121)\n",
            "Requirement already satisfied: filelock in /usr/local/lib/python3.10/dist-packages (from torch) (3.15.4)\n",
            "Requirement already satisfied: typing-extensions>=4.8.0 in /usr/local/lib/python3.10/dist-packages (from torch) (4.12.2)\n",
            "Requirement already satisfied: sympy in /usr/local/lib/python3.10/dist-packages (from torch) (1.13.2)\n",
            "Requirement already satisfied: networkx in /usr/local/lib/python3.10/dist-packages (from torch) (3.3)\n",
            "Requirement already satisfied: jinja2 in /usr/local/lib/python3.10/dist-packages (from torch) (3.1.4)\n",
            "Requirement already satisfied: fsspec in /usr/local/lib/python3.10/dist-packages (from torch) (2024.6.1)\n",
            "Requirement already satisfied: MarkupSafe>=2.0 in /usr/local/lib/python3.10/dist-packages (from jinja2->torch) (2.1.5)\n",
            "Requirement already satisfied: mpmath<1.4,>=1.1.0 in /usr/local/lib/python3.10/dist-packages (from sympy->torch) (1.3.0)\n",
            "Requirement already satisfied: numpy in /usr/local/lib/python3.10/dist-packages (1.26.4)\n"
          ]
        }
      ],
      "source": [
        "# Install PyTorch (optional, Google Colab has PyTorch pre-installed)\n",
        "!pip install torch\n",
        "!pip install numpy\n"
      ]
    },
    {
      "cell_type": "code",
      "source": [
        "import torch\n",
        "import torch.nn as nn\n",
        "from torch.utils.data import TensorDataset, DataLoader\n",
        "import numpy as np\n",
        "\n",
        "# Generate random data (simulating tokenized texts and labels)\n",
        "texts_train = np.random.randint(0, 100, (1000, 50))  # 1000 samples, each of length 50\n",
        "labels_train = np.random.randint(0, 5, 1000)         # 1000 labels for training\n",
        "texts_test = np.random.randint(0, 100, (200, 50))    # 200 test samples\n",
        "labels_test = np.random.randint(0, 5, 200)           # 200 labels for testing\n",
        "\n",
        "# Create PyTorch Dataset objects\n",
        "train_data = TensorDataset(torch.tensor(texts_train, dtype=torch.long), torch.tensor(labels_train, dtype=torch.long))\n",
        "test_data = TensorDataset(torch.tensor(texts_test, dtype=torch.long), torch.tensor(labels_test, dtype=torch.long))\n",
        "\n",
        "# Create DataLoader objects for batching\n",
        "batch_size = 400\n",
        "train_loader = DataLoader(train_data, shuffle=True, batch_size=batch_size)\n",
        "test_loader = DataLoader(test_data, shuffle=False, batch_size=batch_size)\n",
        "\n",
        "# Define the CNN model for text classification\n",
        "class TicketClassifier(nn.Module):\n",
        "    def __init__(self, vocab_size, embed_dim, target_size):\n",
        "        super().__init__()\n",
        "        self.embedding = nn.Embedding(vocab_size, embed_dim)\n",
        "        self.conv = nn.Conv1d(embed_dim, embed_dim, kernel_size=3, stride=1, padding=1)\n",
        "        self.fc = nn.Linear(embed_dim, target_size)\n",
        "\n",
        "    def forward(self, text):\n",
        "        embedded = self.embedding(text).permute(0, 2, 1)  # Shape: (batch_size, embed_dim, seq_len)\n",
        "        conved = torch.relu(self.conv(embedded)).mean(dim=2)  # Reduce over the sequence length\n",
        "        return self.fc(conved)\n",
        "\n",
        "# Hyperparameters and model instantiation\n",
        "vocab_size = 101        # Vocabulary size (tokens range from 0 to 100)\n",
        "target_size = 5         # Number of classes\n",
        "embedding_dim = 64      # Embedding dimension\n",
        "\n",
        "model = TicketClassifier(vocab_size, embedding_dim, target_size)\n",
        "\n",
        "# Loss and optimizer\n",
        "lr = 0.05\n",
        "criterion = nn.CrossEntropyLoss()\n",
        "optimizer = torch.optim.Adam(model.parameters(), lr=lr)\n",
        "\n",
        "# Training loop\n",
        "epochs = 3\n",
        "model.train()\n",
        "for epoch in range(epochs):\n",
        "    running_loss, num_processed = 0, 0\n",
        "    for inputs, labels in train_loader:\n",
        "        optimizer.zero_grad()\n",
        "        output = model(inputs)\n",
        "        loss = criterion(output, labels)\n",
        "        loss.backward()\n",
        "        optimizer.step()\n",
        "        running_loss += loss.item()\n",
        "        num_processed += len(inputs)\n",
        "    print(f\"Epoch: {epoch+1}, Loss: {running_loss/num_processed}\")\n",
        "\n",
        "# Metrics calculation function\n",
        "def calculate_metrics(predictions, labels, num_classes):\n",
        "    accuracy = (predictions == labels).sum().item() / len(labels)\n",
        "    precision, recall = [], []\n",
        "    for i in range(num_classes):\n",
        "        tp = ((predictions == i) & (labels == i)).sum().item()\n",
        "        fp = ((predictions == i) & (labels != i)).sum().item()\n",
        "        fn = ((predictions != i) & (labels == i)).sum().item()\n",
        "        precision.append(tp / (tp + fp) if tp + fp != 0 else 0.0)\n",
        "        recall.append(tp / (tp + fn) if tp + fn != 0 else 0.0)\n",
        "    return accuracy, precision, recall\n",
        "\n",
        "# Model evaluation on test data\n",
        "model.eval()\n",
        "all_predictions, all_labels = [], []\n",
        "\n",
        "with torch.no_grad():\n",
        "    for inputs, labels in test_loader:\n",
        "        output = model(inputs)\n",
        "        cat = torch.argmax(output, dim=-1)\n",
        "        all_predictions.extend(cat.tolist())\n",
        "        all_labels.extend(labels.tolist())\n",
        "\n",
        "# Convert to tensors for metrics calculation\n",
        "all_predictions = torch.tensor(all_predictions)\n",
        "all_labels = torch.tensor(all_labels)\n",
        "\n",
        "# Calculate accuracy, precision, and recall\n",
        "accuracy, precision, recall = calculate_metrics(all_predictions, all_labels, target_size)\n",
        "print('Accuracy:', accuracy)\n",
        "print('Precision (per class):', precision)\n",
        "print('Recall (per class):', recall)\n"
      ],
      "metadata": {
        "colab": {
          "base_uri": "https://localhost:8080/"
        },
        "id": "vkJjFrIjcwEy",
        "outputId": "882506f9-1b46-4e78-ce68-bbd841d5f4c5"
      },
      "execution_count": 2,
      "outputs": [
        {
          "output_type": "stream",
          "name": "stdout",
          "text": [
            "Epoch: 1, Loss: 0.0055198919773101806\n",
            "Epoch: 2, Loss: 0.004913164615631104\n",
            "Epoch: 3, Loss: 0.0047777019739151\n",
            "Accuracy: 0.185\n",
            "Precision (per class): [0.19230769230769232, 0.0, 0.0, 0.1774193548387097, 0.14285714285714285]\n",
            "Recall (per class): [0.625, 0.0, 0.0, 0.2391304347826087, 0.02631578947368421]\n"
          ]
        }
      ]
    }
  ]
}